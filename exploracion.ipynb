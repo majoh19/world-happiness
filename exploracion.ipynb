{
 "cells": [
  {
   "cell_type": "markdown",
   "id": "f5d2bf9e",
   "metadata": {},
   "source": [
    "# World Happiness Report - Exploración de Datos\n",
    "Este notebook combina los archivos anuales del World Happiness Report y genera un perfil exploratorio con pandas_profiling."
   ]
  },
  {
   "cell_type": "code",
   "execution_count": null,
   "id": "b821f81e",
   "metadata": {},
   "outputs": [],
   "source": [
    "!pip install pandas pandas-profiling openpyxl --quiet"
   ]
  },
  {
   "cell_type": "code",
   "execution_count": null,
   "id": "9e99ca9f",
   "metadata": {},
   "outputs": [],
   "source": [
    "import pandas as pd\n",
    "from pandas_profiling import ProfileReport\n",
    "import glob"
   ]
  },
  {
   "cell_type": "markdown",
   "id": "c07e8d56",
   "metadata": {},
   "source": [
    "## 📁 Cargar y combinar archivos CSV (2015–2019)"
   ]
  },
  {
   "cell_type": "code",
   "execution_count": null,
   "id": "1e4c4b35",
   "metadata": {},
   "outputs": [],
   "source": [
    "\n",
    "# Subir archivos primero (puedes usar el botón de archivos en la izquierda en Colab)\n",
    "from google.colab import files\n",
    "\n",
    "uploaded = files.upload()  # Cargar archivos anuales del reporte de felicidad\n",
    "\n",
    "# Leer y combinar\n",
    "all_data = []\n",
    "\n",
    "for filename in uploaded.keys():\n",
    "    year = int(''.join(filter(str.isdigit, filename)))  # extraer año del nombre del archivo\n",
    "    df = pd.read_csv(filename)\n",
    "    df['Year'] = year\n",
    "\n",
    "    # estandarizar nombres de columnas para que coincidan\n",
    "    rename_dict = {\n",
    "        'Happiness.Score': 'Happiness Score',\n",
    "        'Happiness.Rank': 'Happiness Rank',\n",
    "        'Economy..GDP.per.Capita.': 'Economy (GDP per Capita)',\n",
    "        'Health..Life.Expectancy.': 'Health (Life Expectancy)',\n",
    "        'Trust..Government.Corruption.': 'Trust (Government Corruption)',\n",
    "        'Dystopia.Residual': 'Dystopia Residual'\n",
    "    }\n",
    "    df.rename(columns=rename_dict, inplace=True)\n",
    "\n",
    "    all_data.append(df)\n",
    "\n",
    "# Concatenar todos los años\n",
    "combined_df = pd.concat(all_data, ignore_index=True)\n",
    "combined_df.head()\n"
   ]
  },
  {
   "cell_type": "markdown",
   "id": "c600a717",
   "metadata": {},
   "source": [
    "## 📊 Exploración con pandas_profiling"
   ]
  },
  {
   "cell_type": "code",
   "execution_count": null,
   "id": "25172933",
   "metadata": {},
   "outputs": [],
   "source": [
    "\n",
    "# Generar perfil exploratorio\n",
    "profile = ProfileReport(combined_df, title=\"World Happiness Report Profile\", explorative=True)\n",
    "profile.to_widgets()\n"
   ]
  }
 ],
 "metadata": {},
 "nbformat": 4,
 "nbformat_minor": 5
}